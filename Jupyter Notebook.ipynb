{
 "cells": [
  {
   "cell_type": "code",
   "execution_count": 1,
   "id": "e0908df6",
   "metadata": {},
   "outputs": [
    {
     "name": "stdout",
     "output_type": "stream",
     "text": [
      "Collecting dlib\n",
      "  Downloading dlib-19.23.0.tar.gz (3.2 MB)\n",
      "Building wheels for collected packages: dlib\n",
      "  Building wheel for dlib (setup.py): started\n",
      "  Building wheel for dlib (setup.py): finished with status 'error'\n",
      "  Running setup.py clean for dlib\n",
      "Failed to build dlib\n",
      "Installing collected packages: dlib\n",
      "    Running setup.py install for dlib: started\n",
      "    Running setup.py install for dlib: finished with status 'error'\n",
      "Note: you may need to restart the kernel to use updated packages.\n"
     ]
    },
    {
     "name": "stderr",
     "output_type": "stream",
     "text": [
      "  ERROR: Command errored out with exit status 1:\n",
      "   command: 'D:\\Anaconda\\python.exe' -u -c 'import io, os, sys, setuptools, tokenize; sys.argv[0] = '\"'\"'C:\\\\Users\\\\hnsik\\\\AppData\\\\Local\\\\Temp\\\\pip-install-rffr5_hf\\\\dlib_418fa3a5d1114a0885b69c55b967d4dc\\\\setup.py'\"'\"'; __file__='\"'\"'C:\\\\Users\\\\hnsik\\\\AppData\\\\Local\\\\Temp\\\\pip-install-rffr5_hf\\\\dlib_418fa3a5d1114a0885b69c55b967d4dc\\\\setup.py'\"'\"';f = getattr(tokenize, '\"'\"'open'\"'\"', open)(__file__) if os.path.exists(__file__) else io.StringIO('\"'\"'from setuptools import setup; setup()'\"'\"');code = f.read().replace('\"'\"'\\r\\n'\"'\"', '\"'\"'\\n'\"'\"');f.close();exec(compile(code, __file__, '\"'\"'exec'\"'\"'))' bdist_wheel -d 'C:\\Users\\hnsik\\AppData\\Local\\Temp\\pip-wheel-ykfmvn4k'\n",
      "       cwd: C:\\Users\\hnsik\\AppData\\Local\\Temp\\pip-install-rffr5_hf\\dlib_418fa3a5d1114a0885b69c55b967d4dc\\\n",
      "  Complete output (8 lines):\n",
      "  running bdist_wheel\n",
      "  running build\n",
      "  running build_py\n",
      "  package init file 'tools\\python\\dlib\\__init__.py' not found (or not a regular file)\n",
      "  running build_ext\n",
      "  \n",
      "  ERROR: CMake must be installed to build dlib\n",
      "  \n",
      "  ----------------------------------------\n",
      "  ERROR: Failed building wheel for dlib\n",
      "    ERROR: Command errored out with exit status 1:\n",
      "     command: 'D:\\Anaconda\\python.exe' -u -c 'import io, os, sys, setuptools, tokenize; sys.argv[0] = '\"'\"'C:\\\\Users\\\\hnsik\\\\AppData\\\\Local\\\\Temp\\\\pip-install-rffr5_hf\\\\dlib_418fa3a5d1114a0885b69c55b967d4dc\\\\setup.py'\"'\"'; __file__='\"'\"'C:\\\\Users\\\\hnsik\\\\AppData\\\\Local\\\\Temp\\\\pip-install-rffr5_hf\\\\dlib_418fa3a5d1114a0885b69c55b967d4dc\\\\setup.py'\"'\"';f = getattr(tokenize, '\"'\"'open'\"'\"', open)(__file__) if os.path.exists(__file__) else io.StringIO('\"'\"'from setuptools import setup; setup()'\"'\"');code = f.read().replace('\"'\"'\\r\\n'\"'\"', '\"'\"'\\n'\"'\"');f.close();exec(compile(code, __file__, '\"'\"'exec'\"'\"'))' install --record 'C:\\Users\\hnsik\\AppData\\Local\\Temp\\pip-record-qc2ypx1a\\install-record.txt' --single-version-externally-managed --compile --install-headers 'D:\\Anaconda\\Include\\dlib'\n",
      "         cwd: C:\\Users\\hnsik\\AppData\\Local\\Temp\\pip-install-rffr5_hf\\dlib_418fa3a5d1114a0885b69c55b967d4dc\\\n",
      "    Complete output (8 lines):\n",
      "    running install\n",
      "    running build\n",
      "    running build_py\n",
      "    package init file 'tools\\python\\dlib\\__init__.py' not found (or not a regular file)\n",
      "    running build_ext\n",
      "    \n",
      "    ERROR: CMake must be installed to build dlib\n",
      "    \n",
      "    ----------------------------------------\n",
      "ERROR: Command errored out with exit status 1: 'D:\\Anaconda\\python.exe' -u -c 'import io, os, sys, setuptools, tokenize; sys.argv[0] = '\"'\"'C:\\\\Users\\\\hnsik\\\\AppData\\\\Local\\\\Temp\\\\pip-install-rffr5_hf\\\\dlib_418fa3a5d1114a0885b69c55b967d4dc\\\\setup.py'\"'\"'; __file__='\"'\"'C:\\\\Users\\\\hnsik\\\\AppData\\\\Local\\\\Temp\\\\pip-install-rffr5_hf\\\\dlib_418fa3a5d1114a0885b69c55b967d4dc\\\\setup.py'\"'\"';f = getattr(tokenize, '\"'\"'open'\"'\"', open)(__file__) if os.path.exists(__file__) else io.StringIO('\"'\"'from setuptools import setup; setup()'\"'\"');code = f.read().replace('\"'\"'\\r\\n'\"'\"', '\"'\"'\\n'\"'\"');f.close();exec(compile(code, __file__, '\"'\"'exec'\"'\"'))' install --record 'C:\\Users\\hnsik\\AppData\\Local\\Temp\\pip-record-qc2ypx1a\\install-record.txt' --single-version-externally-managed --compile --install-headers 'D:\\Anaconda\\Include\\dlib' Check the logs for full command output.\n"
     ]
    }
   ],
   "source": [
    "pip install dlib"
   ]
  },
  {
   "cell_type": "code",
   "execution_count": 2,
   "id": "e6636cb9",
   "metadata": {},
   "outputs": [
    {
     "name": "stdout",
     "output_type": "stream",
     "text": [
      "Collecting cmake\n",
      "  Downloading cmake-3.22.2-py2.py3-none-win_amd64.whl (38.1 MB)\n",
      "Note: you may need to restart the kernel to use updated packages.\n"
     ]
    },
    {
     "name": "stderr",
     "output_type": "stream",
     "text": [
      "ERROR: Exception:\n",
      "Traceback (most recent call last):\n",
      "  File \"D:\\Anaconda\\lib\\site-packages\\pip\\_vendor\\urllib3\\response.py\", line 438, in _error_catcher\n",
      "    yield\n",
      "  File \"D:\\Anaconda\\lib\\site-packages\\pip\\_vendor\\urllib3\\response.py\", line 519, in read\n",
      "    data = self._fp.read(amt) if not fp_closed else b\"\"\n",
      "  File \"D:\\Anaconda\\lib\\site-packages\\pip\\_vendor\\cachecontrol\\filewrapper.py\", line 62, in read\n",
      "    data = self.__fp.read(amt)\n",
      "  File \"D:\\Anaconda\\lib\\http\\client.py\", line 462, in read\n",
      "    n = self.readinto(b)\n",
      "  File \"D:\\Anaconda\\lib\\http\\client.py\", line 506, in readinto\n",
      "    n = self.fp.readinto(b)\n",
      "  File \"D:\\Anaconda\\lib\\socket.py\", line 704, in readinto\n",
      "    return self._sock.recv_into(b)\n",
      "  File \"D:\\Anaconda\\lib\\ssl.py\", line 1241, in recv_into\n",
      "    return self.read(nbytes, buffer)\n",
      "  File \"D:\\Anaconda\\lib\\ssl.py\", line 1099, in read\n",
      "    return self._sslobj.read(len, buffer)\n",
      "socket.timeout: The read operation timed out\n",
      "\n",
      "During handling of the above exception, another exception occurred:\n",
      "\n",
      "Traceback (most recent call last):\n",
      "  File \"D:\\Anaconda\\lib\\site-packages\\pip\\_internal\\cli\\base_command.py\", line 173, in _main\n",
      "    status = self.run(options, args)\n",
      "  File \"D:\\Anaconda\\lib\\site-packages\\pip\\_internal\\cli\\req_command.py\", line 203, in wrapper\n",
      "    return func(self, options, args)\n",
      "  File \"D:\\Anaconda\\lib\\site-packages\\pip\\_internal\\commands\\install.py\", line 315, in run\n",
      "    requirement_set = resolver.resolve(\n",
      "  File \"D:\\Anaconda\\lib\\site-packages\\pip\\_internal\\resolution\\resolvelib\\resolver.py\", line 94, in resolve\n",
      "    result = self._result = resolver.resolve(\n",
      "  File \"D:\\Anaconda\\lib\\site-packages\\pip\\_vendor\\resolvelib\\resolvers.py\", line 472, in resolve\n",
      "    state = resolution.resolve(requirements, max_rounds=max_rounds)\n",
      "  File \"D:\\Anaconda\\lib\\site-packages\\pip\\_vendor\\resolvelib\\resolvers.py\", line 341, in resolve\n",
      "    self._add_to_criteria(self.state.criteria, r, parent=None)\n",
      "  File \"D:\\Anaconda\\lib\\site-packages\\pip\\_vendor\\resolvelib\\resolvers.py\", line 172, in _add_to_criteria\n",
      "    if not criterion.candidates:\n",
      "  File \"D:\\Anaconda\\lib\\site-packages\\pip\\_vendor\\resolvelib\\structs.py\", line 151, in __bool__\n",
      "    return bool(self._sequence)\n",
      "  File \"D:\\Anaconda\\lib\\site-packages\\pip\\_internal\\resolution\\resolvelib\\found_candidates.py\", line 140, in __bool__\n",
      "    return any(self)\n",
      "  File \"D:\\Anaconda\\lib\\site-packages\\pip\\_internal\\resolution\\resolvelib\\found_candidates.py\", line 128, in <genexpr>\n",
      "    return (c for c in iterator if id(c) not in self._incompatible_ids)\n",
      "  File \"D:\\Anaconda\\lib\\site-packages\\pip\\_internal\\resolution\\resolvelib\\found_candidates.py\", line 32, in _iter_built\n",
      "    candidate = func()\n",
      "  File \"D:\\Anaconda\\lib\\site-packages\\pip\\_internal\\resolution\\resolvelib\\factory.py\", line 204, in _make_candidate_from_link\n",
      "    self._link_candidate_cache[link] = LinkCandidate(\n",
      "  File \"D:\\Anaconda\\lib\\site-packages\\pip\\_internal\\resolution\\resolvelib\\candidates.py\", line 295, in __init__\n",
      "    super().__init__(\n",
      "  File \"D:\\Anaconda\\lib\\site-packages\\pip\\_internal\\resolution\\resolvelib\\candidates.py\", line 156, in __init__\n",
      "    self.dist = self._prepare()\n",
      "  File \"D:\\Anaconda\\lib\\site-packages\\pip\\_internal\\resolution\\resolvelib\\candidates.py\", line 227, in _prepare\n",
      "    dist = self._prepare_distribution()\n",
      "  File \"D:\\Anaconda\\lib\\site-packages\\pip\\_internal\\resolution\\resolvelib\\candidates.py\", line 305, in _prepare_distribution\n",
      "    return self._factory.preparer.prepare_linked_requirement(\n",
      "  File \"D:\\Anaconda\\lib\\site-packages\\pip\\_internal\\operations\\prepare.py\", line 508, in prepare_linked_requirement\n",
      "    return self._prepare_linked_requirement(req, parallel_builds)\n",
      "  File \"D:\\Anaconda\\lib\\site-packages\\pip\\_internal\\operations\\prepare.py\", line 550, in _prepare_linked_requirement\n",
      "    local_file = unpack_url(\n",
      "  File \"D:\\Anaconda\\lib\\site-packages\\pip\\_internal\\operations\\prepare.py\", line 239, in unpack_url\n",
      "    file = get_http_url(\n",
      "  File \"D:\\Anaconda\\lib\\site-packages\\pip\\_internal\\operations\\prepare.py\", line 102, in get_http_url\n",
      "    from_path, content_type = download(link, temp_dir.path)\n",
      "  File \"D:\\Anaconda\\lib\\site-packages\\pip\\_internal\\network\\download.py\", line 145, in __call__\n",
      "    for chunk in chunks:\n",
      "  File \"D:\\Anaconda\\lib\\site-packages\\pip\\_internal\\cli\\progress_bars.py\", line 144, in iter\n",
      "    for x in it:\n",
      "  File \"D:\\Anaconda\\lib\\site-packages\\pip\\_internal\\network\\utils.py\", line 63, in response_chunks\n",
      "    for chunk in response.raw.stream(\n",
      "  File \"D:\\Anaconda\\lib\\site-packages\\pip\\_vendor\\urllib3\\response.py\", line 576, in stream\n",
      "    data = self.read(amt=amt, decode_content=decode_content)\n",
      "  File \"D:\\Anaconda\\lib\\site-packages\\pip\\_vendor\\urllib3\\response.py\", line 541, in read\n",
      "    raise IncompleteRead(self._fp_bytes_read, self.length_remaining)\n",
      "  File \"D:\\Anaconda\\lib\\contextlib.py\", line 137, in __exit__\n",
      "    self.gen.throw(typ, value, traceback)\n",
      "  File \"D:\\Anaconda\\lib\\site-packages\\pip\\_vendor\\urllib3\\response.py\", line 443, in _error_catcher\n",
      "    raise ReadTimeoutError(self._pool, None, \"Read timed out.\")\n",
      "pip._vendor.urllib3.exceptions.ReadTimeoutError: HTTPSConnectionPool(host='files.pythonhosted.org', port=443): Read timed out.\n"
     ]
    }
   ],
   "source": [
    "pip install cmake"
   ]
  },
  {
   "cell_type": "code",
   "execution_count": 3,
   "id": "b5a59ee6",
   "metadata": {},
   "outputs": [
    {
     "ename": "SyntaxError",
     "evalue": "invalid syntax (Temp/ipykernel_4752/2342114645.py, line 1)",
     "output_type": "error",
     "traceback": [
      "\u001b[1;36m  File \u001b[1;32m\"C:\\Users\\hnsik\\AppData\\Local\\Temp/ipykernel_4752/2342114645.py\"\u001b[1;36m, line \u001b[1;32m1\u001b[0m\n\u001b[1;33m    conda install -c conda-forge dlib\u001b[0m\n\u001b[1;37m          ^\u001b[0m\n\u001b[1;31mSyntaxError\u001b[0m\u001b[1;31m:\u001b[0m invalid syntax\n"
     ]
    }
   ],
   "source": [
    "conda install -c conda-forge dlib\n",
    "pip install cmake\n",
    "pip install face_recognition"
   ]
  },
  {
   "cell_type": "code",
   "execution_count": 4,
   "id": "4a845b9f",
   "metadata": {},
   "outputs": [
    {
     "name": "stdout",
     "output_type": "stream",
     "text": [
      "Collecting package metadata (current_repodata.json): ...working... done\n",
      "Solving environment: ...working... failed with initial frozen solve. Retrying with flexible solve.\n",
      "Solving environment: ...working... failed with repodata from current_repodata.json, will retry with next repodata source.\n",
      "Collecting package metadata (repodata.json): ...working... done\n",
      "Solving environment: ...working... done\n",
      "\n",
      "## Package Plan ##\n",
      "\n",
      "\n",
      "Note: you may need to restart the kernel to use updated packages.\n"
     ]
    },
    {
     "name": "stderr",
     "output_type": "stream",
     "text": [
      "\n",
      "\n",
      "==> WARNING: A newer version of conda exists. <==\n",
      "  current version: 4.10.3\n",
      "  latest version: 4.11.0"
     ]
    },
    {
     "name": "stdout",
     "output_type": "stream",
     "text": [
      "  environment location: D:\\Anaconda\n",
      "\n",
      "  added / updated specs:\n",
      "    - dlib\n",
      "\n",
      "\n",
      "The following packages will be downloaded:\n",
      "\n",
      "    package                    |            build\n",
      "    ---------------------------|-----------------\n",
      "    conda-4.11.0               |   py39hcbf5309_1         997 KB  conda-forge\n",
      "    dlib-19.22.0               |   py39hf8509d4_0         3.4 MB  conda-forge\n",
      "    python_abi-3.9             |           2_cp39           4 KB  conda-forge\n",
      "    ------------------------------------------------------------\n",
      "                                           Total:         4.4 MB\n",
      "\n",
      "The following NEW packages will be INSTALLED:\n",
      "\n",
      "  dlib               conda-forge/win-64::dlib-19.22.0-py39hf8509d4_0\n",
      "  python_abi         conda-forge/win-64::python_abi-3.9-2_cp39\n",
      "\n",
      "The following packages will be UPDATED:\n",
      "\n",
      "  conda              pkgs/main::conda-4.10.3-py39haa95532_0 --> conda-forge::conda-4.11.0-py39hcbf5309_1\n",
      "\n",
      "\n",
      "\n",
      "Downloading and Extracting Packages\n",
      "\n",
      "conda-4.11.0         | 997 KB    |            |   0% \n",
      "conda-4.11.0         | 997 KB    | 1          |   2% \n",
      "conda-4.11.0         | 997 KB    | #1         |  11% \n",
      "conda-4.11.0         | 997 KB    | #7         |  18% \n",
      "conda-4.11.0         | 997 KB    | ##5        |  26% \n",
      "conda-4.11.0         | 997 KB    | ###2       |  32% \n",
      "conda-4.11.0         | 997 KB    | ###8       |  39% \n",
      "conda-4.11.0         | 997 KB    | ####4      |  45% \n",
      "conda-4.11.0         | 997 KB    | #####4     |  55% \n",
      "conda-4.11.0         | 997 KB    | ######4    |  64% \n",
      "conda-4.11.0         | 997 KB    | #######2   |  72% \n",
      "conda-4.11.0         | 997 KB    | ########   |  80% \n",
      "conda-4.11.0         | 997 KB    | ########8  |  88% \n",
      "conda-4.11.0         | 997 KB    | #########6 |  96% \n",
      "conda-4.11.0         | 997 KB    | ########## | 100% \n",
      "\n",
      "dlib-19.22.0         | 3.4 MB    |            |   0% \n",
      "dlib-19.22.0         | 3.4 MB    |            |   0% \n",
      "dlib-19.22.0         | 3.4 MB    | 1          |   2% \n",
      "dlib-19.22.0         | 3.4 MB    | 3          |   3% \n",
      "dlib-19.22.0         | 3.4 MB    | 4          |   4% \n",
      "dlib-19.22.0         | 3.4 MB    | 5          |   5% \n",
      "dlib-19.22.0         | 3.4 MB    | 5          |   6% \n",
      "dlib-19.22.0         | 3.4 MB    | 6          |   7% \n",
      "dlib-19.22.0         | 3.4 MB    | 7          |   8% \n",
      "dlib-19.22.0         | 3.4 MB    | 8          |   9% \n",
      "dlib-19.22.0         | 3.4 MB    | 9          |  10% \n",
      "dlib-19.22.0         | 3.4 MB    | #          |  11% \n",
      "dlib-19.22.0         | 3.4 MB    | #1         |  12% \n",
      "dlib-19.22.0         | 3.4 MB    | #2         |  13% \n",
      "dlib-19.22.0         | 3.4 MB    | #4         |  14% \n",
      "dlib-19.22.0         | 3.4 MB    | #5         |  15% \n",
      "dlib-19.22.0         | 3.4 MB    | #6         |  16% \n",
      "dlib-19.22.0         | 3.4 MB    | #8         |  19% \n",
      "dlib-19.22.0         | 3.4 MB    | ##         |  20% \n",
      "dlib-19.22.0         | 3.4 MB    | ##1        |  22% \n",
      "dlib-19.22.0         | 3.4 MB    | ##2        |  23% \n",
      "dlib-19.22.0         | 3.4 MB    | ##3        |  24% \n",
      "dlib-19.22.0         | 3.4 MB    | ##5        |  26% \n",
      "dlib-19.22.0         | 3.4 MB    | ##7        |  27% \n",
      "dlib-19.22.0         | 3.4 MB    | ##9        |  29% \n",
      "dlib-19.22.0         | 3.4 MB    | ###        |  31% \n",
      "dlib-19.22.0         | 3.4 MB    | ###1       |  32% \n",
      "dlib-19.22.0         | 3.4 MB    | ###2       |  33% \n",
      "dlib-19.22.0         | 3.4 MB    | ###3       |  34% \n",
      "dlib-19.22.0         | 3.4 MB    | ###4       |  35% \n",
      "dlib-19.22.0         | 3.4 MB    | ###5       |  35% \n",
      "dlib-19.22.0         | 3.4 MB    | ###6       |  36% \n",
      "dlib-19.22.0         | 3.4 MB    | ###7       |  37% \n",
      "dlib-19.22.0         | 3.4 MB    | ###8       |  38% \n",
      "dlib-19.22.0         | 3.4 MB    | ###9       |  39% \n",
      "dlib-19.22.0         | 3.4 MB    | ###9       |  40% \n",
      "dlib-19.22.0         | 3.4 MB    | ####       |  40% \n",
      "dlib-19.22.0         | 3.4 MB    | ####       |  40% \n",
      "dlib-19.22.0         | 3.4 MB    | ####       |  41% \n",
      "dlib-19.22.0         | 3.4 MB    | ####1      |  41% \n",
      "dlib-19.22.0         | 3.4 MB    | ####1      |  42% \n",
      "dlib-19.22.0         | 3.4 MB    | ####2      |  42% \n",
      "dlib-19.22.0         | 3.4 MB    | ####3      |  43% \n",
      "dlib-19.22.0         | 3.4 MB    | ####4      |  44% \n",
      "dlib-19.22.0         | 3.4 MB    | ####5      |  45% \n",
      "dlib-19.22.0         | 3.4 MB    | ####6      |  46% \n",
      "dlib-19.22.0         | 3.4 MB    | ####6      |  47% \n",
      "dlib-19.22.0         | 3.4 MB    | ####7      |  48% \n",
      "dlib-19.22.0         | 3.4 MB    | ####8      |  49% \n",
      "dlib-19.22.0         | 3.4 MB    | ####9      |  50% \n",
      "dlib-19.22.0         | 3.4 MB    | #####      |  51% \n",
      "dlib-19.22.0         | 3.4 MB    | #####1     |  52% \n",
      "dlib-19.22.0         | 3.4 MB    | #####2     |  53% \n",
      "dlib-19.22.0         | 3.4 MB    | #####3     |  54% \n",
      "dlib-19.22.0         | 3.4 MB    | #####4     |  55% \n",
      "dlib-19.22.0         | 3.4 MB    | #####5     |  56% \n",
      "dlib-19.22.0         | 3.4 MB    | #####6     |  57% \n",
      "dlib-19.22.0         | 3.4 MB    | #####7     |  58% \n",
      "dlib-19.22.0         | 3.4 MB    | #####8     |  58% \n",
      "dlib-19.22.0         | 3.4 MB    | #####9     |  60% \n",
      "dlib-19.22.0         | 3.4 MB    | ######     |  61% \n",
      "dlib-19.22.0         | 3.4 MB    | ######1    |  62% \n",
      "dlib-19.22.0         | 3.4 MB    | ######3    |  64% \n",
      "dlib-19.22.0         | 3.4 MB    | ######4    |  65% \n",
      "dlib-19.22.0         | 3.4 MB    | ######6    |  66% \n",
      "dlib-19.22.0         | 3.4 MB    | ######7    |  68% \n",
      "dlib-19.22.0         | 3.4 MB    | ######9    |  69% \n",
      "dlib-19.22.0         | 3.4 MB    | #######    |  70% \n",
      "dlib-19.22.0         | 3.4 MB    | #######2   |  72% \n",
      "dlib-19.22.0         | 3.4 MB    | #######3   |  74% \n",
      "dlib-19.22.0         | 3.4 MB    | #######5   |  75% \n",
      "dlib-19.22.0         | 3.4 MB    | #######6   |  77% \n",
      "dlib-19.22.0         | 3.4 MB    | #######9   |  79% \n",
      "dlib-19.22.0         | 3.4 MB    | ########   |  81% \n",
      "dlib-19.22.0         | 3.4 MB    | ########1  |  82% \n",
      "dlib-19.22.0         | 3.4 MB    | ########3  |  83% \n",
      "dlib-19.22.0         | 3.4 MB    | ########4  |  85% \n",
      "dlib-19.22.0         | 3.4 MB    | ########6  |  87% \n",
      "dlib-19.22.0         | 3.4 MB    | ########7  |  88% \n",
      "dlib-19.22.0         | 3.4 MB    | ########9  |  90% \n",
      "dlib-19.22.0         | 3.4 MB    | #########1 |  91% \n",
      "dlib-19.22.0         | 3.4 MB    | #########2 |  92% \n",
      "dlib-19.22.0         | 3.4 MB    | #########3 |  94% \n",
      "dlib-19.22.0         | 3.4 MB    | #########5 |  95% \n",
      "dlib-19.22.0         | 3.4 MB    | #########6 |  96% \n",
      "dlib-19.22.0         | 3.4 MB    | #########7 |  97% \n",
      "dlib-19.22.0         | 3.4 MB    | #########8 |  98% \n",
      "dlib-19.22.0         | 3.4 MB    | #########9 |  99% \n",
      "dlib-19.22.0         | 3.4 MB    | ########## | 100% \n",
      "\n",
      "python_abi-3.9       | 4 KB      |            |   0% \n",
      "python_abi-3.9       | 4 KB      | ########## | 100% \n",
      "python_abi-3.9       | 4 KB      | ########## | 100% \n",
      "Preparing transaction: ...working... done\n",
      "Verifying transaction: ...working... done\n",
      "Executing transaction: ...working... done\n"
     ]
    },
    {
     "name": "stderr",
     "output_type": "stream",
     "text": [
      "\n",
      "\n",
      "Please update conda by running\n",
      "\n",
      "    $ conda update -n base -c defaults conda\n",
      "\n",
      "\n"
     ]
    }
   ],
   "source": [
    "conda install -c conda-forge dlib"
   ]
  },
  {
   "cell_type": "code",
   "execution_count": 5,
   "id": "3bc3d98b",
   "metadata": {},
   "outputs": [
    {
     "name": "stdout",
     "output_type": "stream",
     "text": [
      "Collecting cmake\n",
      "  Downloading cmake-3.22.2-py2.py3-none-win_amd64.whl (38.1 MB)\n",
      "Installing collected packages: cmake\n",
      "Successfully installed cmake-3.22.2\n",
      "Note: you may need to restart the kernel to use updated packages.\n"
     ]
    }
   ],
   "source": [
    "pip install cmake"
   ]
  },
  {
   "cell_type": "code",
   "execution_count": 6,
   "id": "d88a8917",
   "metadata": {},
   "outputs": [
    {
     "name": "stdout",
     "output_type": "stream",
     "text": [
      "Collecting face_recognitionNote: you may need to restart the kernel to use updated packages.\n",
      "  Downloading face_recognition-1.3.0-py2.py3-none-any.whl (15 kB)\n",
      "Requirement already satisfied: numpy in d:\\anaconda\\lib\\site-packages (from face_recognition) (1.20.3)\n",
      "Collecting face-recognition-models>=0.3.0\n",
      "  Downloading face_recognition_models-0.3.0.tar.gz (100.1 MB)\n",
      "Requirement already satisfied: dlib>=19.7 in d:\\anaconda\\lib\\site-packages (from face_recognition) (19.22.0)\n",
      "Requirement already satisfied: Click>=6.0 in d:\\anaconda\\lib\\site-packages (from face_recognition) (8.0.3)\n",
      "Requirement already satisfied: Pillow in d:\\anaconda\\lib\\site-packages (from face_recognition) (8.4.0)\n",
      "\n",
      "Requirement already satisfied: colorama in d:\\anaconda\\lib\\site-packages (from Click>=6.0->face_recognition) (0.4.4)\n",
      "Building wheels for collected packages: face-recognition-models\n",
      "  Building wheel for face-recognition-models (setup.py): started\n",
      "  Building wheel for face-recognition-models (setup.py): finished with status 'done'\n",
      "  Created wheel for face-recognition-models: filename=face_recognition_models-0.3.0-py2.py3-none-any.whl size=100566185 sha256=bb317eb441a261e9d661f0019d4380cba9590bb32797d53a7c393a646a5ea7c9\n",
      "  Stored in directory: c:\\users\\hnsik\\appdata\\local\\pip\\cache\\wheels\\22\\a8\\60\\4a2aeb763d63f50190f4c4e07069a22245347eeafdb3a67551\n",
      "Successfully built face-recognition-models\n",
      "Installing collected packages: face-recognition-models, face-recognition\n",
      "Successfully installed face-recognition-1.3.0 face-recognition-models-0.3.0\n"
     ]
    }
   ],
   "source": [
    "pip install face_recognition"
   ]
  },
  {
   "cell_type": "code",
   "execution_count": 2,
   "id": "e703f314",
   "metadata": {},
   "outputs": [],
   "source": [
    "import cv2\n",
    "import numpy as np\n",
    "import face_recognition"
   ]
  },
  {
   "cell_type": "code",
   "execution_count": 5,
   "id": "84534fc9",
   "metadata": {},
   "outputs": [
    {
     "data": {
      "text/plain": [
       "48"
      ]
     },
     "execution_count": 5,
     "metadata": {},
     "output_type": "execute_result"
    }
   ],
   "source": [
    "original_image =face_recognition.load_image_file('chandu.jpg')\n",
    "original_image_rgb= cv2.cvtColor(original_image,cv2.COLOR_BGR2RGB)\n",
    "\n",
    "\n",
    "#Use face detection class to automatically draw focus points on face and draw a bounding box\n",
    "face = face_recognition.face_locations(original_image_rgb)[0]\n",
    "copy = original_image_rgb.copy()\n",
    "\n",
    "#Draw a bounding box using the coordinates\n",
    "cv2.rectangle(copy, (face[3], face[0]),(face[1], face[2]), (255,0,255), 2)\n",
    "cv2.imshow('copy', copy)\n",
    "cv2.imshow('elon',original_image_rgb)\n",
    "#Show the images for comparision\n",
    "cv2.waitKey(0)"
   ]
  },
  {
   "cell_type": "markdown",
   "id": "d114516b",
   "metadata": {},
   "source": [
    "### Encoding the image "
   ]
  },
  {
   "cell_type": "code",
   "execution_count": 7,
   "id": "143f792b",
   "metadata": {},
   "outputs": [
    {
     "data": {
      "text/plain": [
       "array([-0.10300719,  0.10204273, -0.0572677 , -0.0286725 , -0.04340287,\n",
       "       -0.07372615, -0.0096289 , -0.15187287,  0.20972061, -0.04190923,\n",
       "        0.19171192, -0.00194004, -0.12064391, -0.16589016, -0.00292401,\n",
       "        0.11103301, -0.17730778, -0.18099622, -0.01228648, -0.14219351,\n",
       "       -0.00859175, -0.03169954, -0.03199404,  0.11730225, -0.15300709,\n",
       "       -0.28631213, -0.11325569, -0.16021159,  0.09989166, -0.02178408,\n",
       "        0.04681223,  0.11122938, -0.2262179 , -0.06443714,  0.01070974,\n",
       "        0.05314686,  0.03388723,  0.0876855 ,  0.18088858,  0.04146542,\n",
       "       -0.113997  , -0.03587035,  0.02126754,  0.27942732,  0.19591562,\n",
       "        0.0050514 ,  0.00825805,  0.02419359,  0.06164242, -0.16514707,\n",
       "        0.06923855,  0.18678527,  0.13960254,  0.05981309,  0.02211422,\n",
       "       -0.13446215, -0.03596631,  0.07662396, -0.22882372,  0.08956629,\n",
       "        0.03972767, -0.09783524, -0.09993193, -0.00269522,  0.22131614,\n",
       "        0.12226281, -0.07466795, -0.12939346,  0.22953893, -0.18737739,\n",
       "       -0.00459597,  0.05770204, -0.10136605, -0.14603928, -0.28983101,\n",
       "        0.08834368,  0.38922268,  0.17175402, -0.14622648,  0.06425751,\n",
       "       -0.11780924, -0.01722191,  0.01859112, -0.02878008, -0.09600782,\n",
       "        0.00663331, -0.07459877,  0.02360859,  0.11292941,  0.06424081,\n",
       "       -0.0328077 ,  0.19875951, -0.06317003,  0.03170035,  0.03394323,\n",
       "        0.00815386, -0.04627866, -0.05806853, -0.08763719, -0.06020549,\n",
       "       -0.00377042, -0.08554569,  0.04226987,  0.08021387, -0.15254384,\n",
       "        0.14546964,  0.02923036,  0.01401149, -0.08614232,  0.12808269,\n",
       "       -0.0924046 , -0.06490606,  0.182896  , -0.2032432 ,  0.24984419,\n",
       "        0.12108112, -0.00988733,  0.15732232,  0.028443  ,  0.0847125 ,\n",
       "       -0.07092538, -0.100504  , -0.06192324, -0.05699026,  0.00760097,\n",
       "       -0.08346735,  0.07301782,  0.05640822])"
      ]
     },
     "execution_count": 7,
     "metadata": {},
     "output_type": "execute_result"
    }
   ],
   "source": [
    "train_chandu_encodings = face_recognition.face_encodings(original_image_rgb)[0]\n",
    "train_chandu_encodings"
   ]
  },
  {
   "cell_type": "code",
   "execution_count": null,
   "id": "6517f59d",
   "metadata": {},
   "outputs": [],
   "source": [
    "#Given an image, return the 128-dimension face encoding for each face in the image."
   ]
  },
  {
   "cell_type": "markdown",
   "id": "86121ea8",
   "metadata": {},
   "source": [
    "## Testing"
   ]
  },
  {
   "cell_type": "code",
   "execution_count": 9,
   "id": "cf06e054",
   "metadata": {},
   "outputs": [
    {
     "name": "stdout",
     "output_type": "stream",
     "text": [
      "[False]\n"
     ]
    }
   ],
   "source": [
    "test = face_recognition.load_image_file('hasnain.jpg')\n",
    "test = cv2.cvtColor(test, cv2.COLOR_BGR2RGB)\n",
    "test_encode = face_recognition.face_encodings(test)[0]\n",
    "print(face_recognition.compare_faces([train_chandu_encodings],test_encode))"
   ]
  },
  {
   "cell_type": "code",
   "execution_count": 1,
   "id": "aefb7c17",
   "metadata": {},
   "outputs": [],
   "source": [
    "import cv2\n",
    "import face_recognition\n",
    "import os\n",
    "import numpy as np\n",
    "from datetime import datetime\n",
    "import pickle\n",
    "path=\"our_images\""
   ]
  },
  {
   "cell_type": "code",
   "execution_count": 2,
   "id": "6f70138a",
   "metadata": {},
   "outputs": [
    {
     "name": "stdout",
     "output_type": "stream",
     "text": [
      "chandu.jpg\n",
      "sarthak.jpg\n"
     ]
    }
   ],
   "source": [
    "images = []\n",
    "classNames = []\n",
    "mylist = os.listdir(path)\n",
    "for cl in mylist:\n",
    "    print(cl)\n",
    "    curImg = cv2.imread(f'{path}/{cl}')\n",
    "    images.append(curImg)\n",
    "    classNames.append(os.path.splitext(cl)[0])"
   ]
  },
  {
   "cell_type": "code",
   "execution_count": 3,
   "id": "d8320e7b",
   "metadata": {},
   "outputs": [
    {
     "data": {
      "text/plain": [
       "['chandu', 'sarthak']"
      ]
     },
     "execution_count": 3,
     "metadata": {},
     "output_type": "execute_result"
    }
   ],
   "source": [
    "classNames"
   ]
  },
  {
   "cell_type": "code",
   "execution_count": 4,
   "id": "0e765d7a",
   "metadata": {},
   "outputs": [
    {
     "data": {
      "image/png": "[encoded data removed]",
      "text/plain": [
       "<Figure size 432x288 with 1 Axes>"
      ]
     },
     "metadata": {
      "needs_background": "light"
     },
     "output_type": "display_data"
    }
   ],
   "source": [
    "import matplotlib.pyplot as plt\n",
    "import matplotlib.image as img\n",
    "\n",
    "for img in images:\n",
    "    plt.imshow(img)"
   ]
  },
  {
   "cell_type": "code",
   "execution_count": 5,
   "id": "6fef8031",
   "metadata": {},
   "outputs": [],
   "source": [
    "def findEncodings(images):\n",
    "    encodeList = []\n",
    "    for img in images:\n",
    "        img = cv2.cvtColor(img, cv2.COLOR_BGR2RGB)\n",
    "        encoded_face = face_recognition.face_encodings(img)[0]\n",
    "        encodeList.append(encoded_face)\n",
    "    return encodeList\n"
   ]
  },
  {
   "cell_type": "code",
   "execution_count": 6,
   "id": "8846c332",
   "metadata": {},
   "outputs": [],
   "source": [
    "encoded_face_train = findEncodings(images)"
   ]
  },
  {
   "cell_type": "code",
   "execution_count": 7,
   "id": "affdaf8d",
   "metadata": {},
   "outputs": [
    {
     "data": {
      "text/plain": [
       "[array([-0.11360388,  0.10588443, -0.07127337, -0.0478028 , -0.04176171,\n",
       "        -0.05996063, -0.01490096, -0.15141197,  0.19861586, -0.01856998,\n",
       "         0.21619384, -0.01386479, -0.11645761, -0.1665516 , -0.03651309,\n",
       "         0.11844675, -0.15351388, -0.18107201, -0.01029362, -0.11475261,\n",
       "        -0.02407754, -0.04392369, -0.03407513,  0.13050881, -0.15541634,\n",
       "        -0.28862682, -0.08572125, -0.17725344,  0.08158632, -0.03508822,\n",
       "         0.03258309,  0.14047652, -0.20747954, -0.0576153 ,  0.02133355,\n",
       "         0.04282865,  0.01779053,  0.10009906,  0.15329607,  0.03157961,\n",
       "        -0.12138306, -0.04093705,  0.0346276 ,  0.31134295,  0.20659849,\n",
       "         0.02118783,  0.0132183 ,  0.01335649,  0.06680646, -0.17933758,\n",
       "         0.05492809,  0.15263951,  0.12793747,  0.03886495,  0.05623715,\n",
       "        -0.12970251, -0.02592371,  0.04072726, -0.21681255,  0.08525443,\n",
       "         0.02670616, -0.05015057, -0.09804766, -0.03874467,  0.22927637,\n",
       "         0.11406245, -0.09214941, -0.10009855,  0.21544465, -0.18818593,\n",
       "        -0.00717805,  0.06031563, -0.0895304 , -0.16461921, -0.28908423,\n",
       "         0.07507706,  0.38477525,  0.18976176, -0.15865263,  0.06303418,\n",
       "        -0.06999355, -0.01777571,  0.03479627, -0.0371349 , -0.11864646,\n",
       "         0.00929566, -0.07725779, -0.01266532,  0.13027449,  0.06190159,\n",
       "        -0.02945468,  0.18568471, -0.07740343,  0.00867661,  0.03683806,\n",
       "         0.02673381, -0.06174491, -0.04118237, -0.10849673, -0.05809051,\n",
       "        -0.01143378, -0.08234321,  0.03215722,  0.08450963, -0.14726892,\n",
       "         0.14038332,  0.02342329,  0.02602616, -0.08668545,  0.13921522,\n",
       "        -0.0973988 , -0.06634359,  0.16235664, -0.19431119,  0.22712348,\n",
       "         0.1097277 ,  0.02210525,  0.13295035,  0.04562421,  0.05064222,\n",
       "        -0.06680286, -0.07010703, -0.05108172, -0.07438318,  0.02580922,\n",
       "        -0.10927225,  0.06492265,  0.03800515]),\n",
       " array([-0.08712616,  0.10890417,  0.02609859, -0.02922809, -0.02300349,\n",
       "         0.02248128, -0.06670057, -0.09097192,  0.12136099, -0.04048199,\n",
       "         0.14532407, -0.031366  , -0.10728062, -0.15657173, -0.0289147 ,\n",
       "         0.06734002, -0.13482423, -0.16854703, -0.03061689, -0.03721313,\n",
       "         0.03120439,  0.06315308,  0.01141736,  0.04105786, -0.20786099,\n",
       "        -0.38608956, -0.10048354, -0.11048261, -0.01695449, -0.07849466,\n",
       "         0.01804184,  0.06767698, -0.21682401, -0.04673418,  0.04012169,\n",
       "         0.07558183,  0.05416919,  0.03669115,  0.16321051,  0.01918172,\n",
       "        -0.20339194,  0.04070224,  0.09963778,  0.32478869,  0.19852288,\n",
       "         0.0227474 , -0.02821513,  0.00464548,  0.09098339, -0.17835462,\n",
       "         0.13312469,  0.13469121,  0.04635547,  0.02369487,  0.05751692,\n",
       "        -0.05933864, -0.05401688,  0.10952927, -0.13340323,  0.05580695,\n",
       "         0.01204105, -0.07937847, -0.04144261, -0.00181852,  0.11223675,\n",
       "         0.09920979, -0.0549418 , -0.18303651,  0.08696695, -0.16920061,\n",
       "        -0.02727308,  0.06803188, -0.09314518, -0.13257372, -0.31505159,\n",
       "         0.07183319,  0.43698552,  0.12398114, -0.19462767,  0.0590101 ,\n",
       "        -0.05186124, -0.0291564 ,  0.13686119,  0.06622248, -0.03035021,\n",
       "         0.03283489, -0.07589552,  0.08220336,  0.21427993,  0.05456805,\n",
       "        -0.08816937,  0.16670133, -0.03617331,  0.03063558,  0.05946257,\n",
       "         0.02663144, -0.07062517,  0.01012599, -0.16904968, -0.0254828 ,\n",
       "         0.03602417,  0.03787773, -0.0096518 ,  0.15105957, -0.16133022,\n",
       "         0.13717705,  0.06451993, -0.03390599,  0.01813215,  0.07538512,\n",
       "        -0.09137257, -0.07412603,  0.12013473, -0.21235365,  0.14054704,\n",
       "         0.1045929 ,  0.01294722,  0.15290162,  0.10289681,  0.02601464,\n",
       "         0.02410009, -0.02201874, -0.13414505, -0.05057336,  0.06901161,\n",
       "         0.00662202,  0.10202788, -0.00247527])]"
      ]
     },
     "execution_count": 7,
     "metadata": {},
     "output_type": "execute_result"
    }
   ],
   "source": [
    "encoded_face_train"
   ]
  },
  {
   "cell_type": "code",
   "execution_count": 8,
   "id": "ad2023b8",
   "metadata": {},
   "outputs": [],
   "source": [
    "def markUser(name):\n",
    "    with open('User.csv','r+') as f:\n",
    "        myDataList = f.readlines()\n",
    "        nameList = []\n",
    "        for line in myDataList:\n",
    "            entry = line.split(',')\n",
    "            nameList.append(entry[0])\n",
    "        if name not in nameList:\n",
    "            now = datetime.now()\n",
    "            time = now.strftime('%I:%M:%S:%p')\n",
    "            date = now.strftime('%d-%B-%Y')\n",
    "            f.writelines(f'{name}, {time}, {date}, User\\n')\n",
    "            \n",
    "            \n",
    "            \n",
    "def markIntruder(img):\n",
    "    cv2.imwrite(\"intruder_snap.jpg\", img)\n",
    "    with open('Intruder.csv','r+') as f:\n",
    "        myDataList = f.readlines()\n",
    "        nameList = []\n",
    "        for line in myDataList:\n",
    "            entry = line.split(',')\n",
    "            print(entry[0])\n",
    "            nameList.append(entry[0])\n",
    "        if \"Intruder\" not in nameList:\n",
    "            now = datetime.now()\n",
    "            time = now.strftime('%I:%M:%S:%p')\n",
    "            date = now.strftime('%d-%B-%Y')\n",
    "            f.writelines(f'Intruder, {time}, {date}, Unknown Person\\n')\n",
    "            "
   ]
  },
  {
   "cell_type": "code",
   "execution_count": 9,
   "id": "a704baee",
   "metadata": {},
   "outputs": [
    {
     "name": "stdout",
     "output_type": "stream",
     "text": [
      "0\n",
      "\n",
      "\n",
      "0\n",
      "\n",
      "\n",
      "Intruder\n",
      "0\n",
      "\n",
      "\n",
      "Intruder\n",
      "1\n",
      "\n",
      "\n",
      "Intruder\n",
      "1\n",
      "\n",
      "\n",
      "Intruder\n",
      "1\n",
      "\n",
      "\n",
      "Intruder\n",
      "1\n",
      "\n",
      "\n",
      "Intruder\n",
      "1\n",
      "\n",
      "\n",
      "Intruder\n",
      "1\n",
      "\n",
      "\n",
      "Intruder\n",
      "0\n",
      "\n",
      "\n",
      "Intruder\n",
      "1\n",
      "\n",
      "\n",
      "Intruder\n",
      "0\n",
      "\n",
      "\n",
      "Intruder\n",
      "0\n",
      "\n",
      "\n",
      "Intruder\n",
      "0\n",
      "\n",
      "\n",
      "Intruder\n",
      "0\n",
      "\n",
      "\n",
      "Intruder\n",
      "1\n",
      "\n",
      "\n",
      "Intruder\n",
      "0\n",
      "\n",
      "\n",
      "Intruder\n",
      "1\n",
      "\n",
      "\n",
      "Intruder\n",
      "1\n",
      "\n",
      "\n",
      "Intruder\n",
      "0\n",
      "\n",
      "\n",
      "Intruder\n",
      "0\n",
      "\n",
      "\n",
      "Intruder\n",
      "1\n",
      "1\n",
      "1\n",
      "1\n",
      "1\n",
      "1\n",
      "1\n",
      "1\n",
      "1\n",
      "1\n",
      "1\n",
      "1\n",
      "0\n",
      "0\n",
      "\n",
      "\n",
      "Intruder\n",
      "0\n",
      "\n",
      "\n",
      "Intruder\n",
      "1\n",
      "\n",
      "\n",
      "Intruder\n",
      "0\n",
      "\n",
      "\n",
      "Intruder\n",
      "0\n",
      "\n",
      "\n",
      "Intruder\n",
      "1\n",
      "\n",
      "\n",
      "Intruder\n",
      "0\n",
      "\n",
      "\n",
      "Intruder\n",
      "0\n",
      "\n",
      "\n",
      "Intruder\n",
      "0\n",
      "\n",
      "\n",
      "Intruder\n",
      "0\n",
      "\n",
      "\n",
      "Intruder\n",
      "0\n",
      "\n",
      "\n",
      "Intruder\n",
      "1\n",
      "\n",
      "\n",
      "Intruder\n",
      "0\n",
      "\n",
      "\n",
      "Intruder\n",
      "1\n",
      "\n",
      "\n",
      "Intruder\n",
      "0\n",
      "\n",
      "\n",
      "Intruder\n",
      "1\n",
      "\n",
      "\n",
      "Intruder\n",
      "0\n",
      "\n",
      "\n",
      "Intruder\n",
      "0\n",
      "\n",
      "\n",
      "Intruder\n",
      "0\n",
      "\n",
      "\n",
      "Intruder\n",
      "0\n",
      "\n",
      "\n",
      "Intruder\n",
      "0\n",
      "\n",
      "\n",
      "Intruder\n",
      "0\n",
      "\n",
      "\n",
      "Intruder\n",
      "0\n",
      "\n",
      "\n",
      "Intruder\n",
      "0\n",
      "1\n",
      "\n",
      "\n",
      "Intruder\n",
      "0\n",
      "\n",
      "\n",
      "Intruder\n",
      "0\n"
     ]
    },
    {
     "ename": "PermissionError",
     "evalue": "[Errno 13] Permission denied: 'Intruder.csv'",
     "output_type": "error",
     "traceback": [
      "\u001b[1;31m---------------------------------------------------------------------------\u001b[0m",
      "\u001b[1;31mPermissionError\u001b[0m                           Traceback (most recent call last)",
      "\u001b[1;32m~\\AppData\\Local\\Temp/ipykernel_7264/1570990342.py\u001b[0m in \u001b[0;36m<module>\u001b[1;34m\u001b[0m\n\u001b[0;32m     26\u001b[0m         \u001b[1;32melse\u001b[0m\u001b[1;33m:\u001b[0m\u001b[1;33m\u001b[0m\u001b[1;33m\u001b[0m\u001b[0m\n\u001b[0;32m     27\u001b[0m             \u001b[0mname\u001b[0m \u001b[1;33m=\u001b[0m \u001b[1;34m\"Intruder\"\u001b[0m\u001b[1;33m\u001b[0m\u001b[1;33m\u001b[0m\u001b[0m\n\u001b[1;32m---> 28\u001b[1;33m             \u001b[0mmarkIntruder\u001b[0m\u001b[1;33m(\u001b[0m\u001b[0mimg\u001b[0m\u001b[1;33m)\u001b[0m\u001b[1;33m\u001b[0m\u001b[1;33m\u001b[0m\u001b[0m\n\u001b[0m\u001b[0;32m     29\u001b[0m             \u001b[0my1\u001b[0m\u001b[1;33m,\u001b[0m\u001b[0mx2\u001b[0m\u001b[1;33m,\u001b[0m\u001b[0my2\u001b[0m\u001b[1;33m,\u001b[0m\u001b[0mx1\u001b[0m \u001b[1;33m=\u001b[0m \u001b[0mfaceloc\u001b[0m\u001b[1;33m\u001b[0m\u001b[1;33m\u001b[0m\u001b[0m\n\u001b[0;32m     30\u001b[0m             \u001b[0my1\u001b[0m\u001b[1;33m,\u001b[0m \u001b[0mx2\u001b[0m\u001b[1;33m,\u001b[0m\u001b[0my2\u001b[0m\u001b[1;33m,\u001b[0m\u001b[0mx1\u001b[0m \u001b[1;33m=\u001b[0m \u001b[0my1\u001b[0m\u001b[1;33m*\u001b[0m\u001b[1;36m4\u001b[0m\u001b[1;33m,\u001b[0m\u001b[0mx2\u001b[0m\u001b[1;33m*\u001b[0m\u001b[1;36m4\u001b[0m\u001b[1;33m,\u001b[0m\u001b[0my2\u001b[0m\u001b[1;33m*\u001b[0m\u001b[1;36m4\u001b[0m\u001b[1;33m,\u001b[0m\u001b[0mx1\u001b[0m\u001b[1;33m*\u001b[0m\u001b[1;36m4\u001b[0m\u001b[1;33m\u001b[0m\u001b[1;33m\u001b[0m\u001b[0m\n",
      "\u001b[1;32m~\\AppData\\Local\\Temp/ipykernel_7264/74395222.py\u001b[0m in \u001b[0;36mmarkIntruder\u001b[1;34m(img)\u001b[0m\n\u001b[0;32m     16\u001b[0m \u001b[1;32mdef\u001b[0m \u001b[0mmarkIntruder\u001b[0m\u001b[1;33m(\u001b[0m\u001b[0mimg\u001b[0m\u001b[1;33m)\u001b[0m\u001b[1;33m:\u001b[0m\u001b[1;33m\u001b[0m\u001b[1;33m\u001b[0m\u001b[0m\n\u001b[0;32m     17\u001b[0m     \u001b[0mcv2\u001b[0m\u001b[1;33m.\u001b[0m\u001b[0mimwrite\u001b[0m\u001b[1;33m(\u001b[0m\u001b[1;34m\"intruder_snap.jpg\"\u001b[0m\u001b[1;33m,\u001b[0m \u001b[0mimg\u001b[0m\u001b[1;33m)\u001b[0m\u001b[1;33m\u001b[0m\u001b[1;33m\u001b[0m\u001b[0m\n\u001b[1;32m---> 18\u001b[1;33m     \u001b[1;32mwith\u001b[0m \u001b[0mopen\u001b[0m\u001b[1;33m(\u001b[0m\u001b[1;34m'Intruder.csv'\u001b[0m\u001b[1;33m,\u001b[0m\u001b[1;34m'r+'\u001b[0m\u001b[1;33m)\u001b[0m \u001b[1;32mas\u001b[0m \u001b[0mf\u001b[0m\u001b[1;33m:\u001b[0m\u001b[1;33m\u001b[0m\u001b[1;33m\u001b[0m\u001b[0m\n\u001b[0m\u001b[0;32m     19\u001b[0m         \u001b[0mmyDataList\u001b[0m \u001b[1;33m=\u001b[0m \u001b[0mf\u001b[0m\u001b[1;33m.\u001b[0m\u001b[0mreadlines\u001b[0m\u001b[1;33m(\u001b[0m\u001b[1;33m)\u001b[0m\u001b[1;33m\u001b[0m\u001b[1;33m\u001b[0m\u001b[0m\n\u001b[0;32m     20\u001b[0m         \u001b[0mnameList\u001b[0m \u001b[1;33m=\u001b[0m \u001b[1;33m[\u001b[0m\u001b[1;33m]\u001b[0m\u001b[1;33m\u001b[0m\u001b[1;33m\u001b[0m\u001b[0m\n",
      "\u001b[1;31mPermissionError\u001b[0m: [Errno 13] Permission denied: 'Intruder.csv'"
     ]
    }
   ],
   "source": [
    "cap  = cv2.VideoCapture(0)\n",
    "\n",
    "while True:\n",
    "    success, img = cap.read()\n",
    "    imgS = cv2.resize(img, (0,0), None, 0.25,0.25)\n",
    "    imgS = cv2.cvtColor(imgS, cv2.COLOR_BGR2RGB)\n",
    "    \n",
    "    faces_in_frame = face_recognition.face_locations(imgS)\n",
    "    encoded_faces = face_recognition.face_encodings(imgS, faces_in_frame)\n",
    "    \n",
    "    for encode_face, faceloc in zip(encoded_faces,faces_in_frame):\n",
    "        matches = face_recognition.compare_faces(encoded_face_train, encode_face)\n",
    "        faceDist = face_recognition.face_distance(encoded_face_train, encode_face)\n",
    "        matchIndex = np.argmin(faceDist)\n",
    "        print(matchIndex)\n",
    "        if matches[matchIndex]:\n",
    "            name = classNames[matchIndex].upper().lower()\n",
    "            y1,x2,y2,x1 = faceloc\n",
    "            y1, x2,y2,x1 = y1*4,x2*4,y2*4,x1*4\n",
    "            \n",
    "            \n",
    "            cv2.rectangle(img,(x1,y1),(x2,y2),(0,255,0),2)\n",
    "            cv2.rectangle(img, (x1,y2-35),(x2,y2), (0,255,0), cv2.FILLED)\n",
    "            cv2.putText(img,name, (x1+6,y2-5), cv2.FONT_HERSHEY_COMPLEX,1,(0,0,0),2)\n",
    "            markUser(name)\n",
    "        else:\n",
    "            name = \"Intruder\"\n",
    "            markIntruder(img)\n",
    "            y1,x2,y2,x1 = faceloc\n",
    "            y1, x2,y2,x1 = y1*4,x2*4,y2*4,x1*4\n",
    "            \n",
    "            \n",
    "            cv2.rectangle(img,(x1,y1),(x2,y2),(0,0,255),2)\n",
    "            cv2.rectangle(img, (x1,y2-35),(x2,y2), (0,0,255), cv2.FILLED)\n",
    "            cv2.putText(img,name, (x1+6,y2-5), cv2.FONT_HERSHEY_COMPLEX,1,(0,0,0),2)\n",
    "        \n",
    "    cv2.imshow('webcam', img)\n",
    "    if cv2.waitKey(1) & 0xFF == ord('q'):\n",
    "        break"
   ]
  },
  {
   "cell_type": "code",
   "execution_count": null,
   "id": "31028c7a",
   "metadata": {},
   "outputs": [],
   "source": []
  },
  {
   "cell_type": "code",
   "execution_count": null,
   "id": "a0f49355",
   "metadata": {},
   "outputs": [],
   "source": []
  }
 ],
 "metadata": {
  "kernelspec": {
   "display_name": "Python 3 (ipykernel)",
   "language": "python",
   "name": "python3"
  },
  "language_info": {
   "codemirror_mode": {
    "name": "ipython",
    "version": 3
   },
   "file_extension": ".py",
   "mimetype": "text/x-python",
   "name": "python",
   "nbconvert_exporter": "python",
   "pygments_lexer": "ipython3",
   "version": "3.9.7"
  }
 },
 "nbformat": 4,
 "nbformat_minor": 5
}
